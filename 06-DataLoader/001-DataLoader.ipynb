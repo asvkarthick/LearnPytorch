{
 "cells": [
  {
   "cell_type": "code",
   "execution_count": 1,
   "id": "a1ffcc5e",
   "metadata": {},
   "outputs": [],
   "source": [
    "import torch\n",
    "import torchvision\n",
    "from torch.utils.data import Dataset, DataLoader\n",
    "import numpy as np\n",
    "import math"
   ]
  },
  {
   "cell_type": "code",
   "execution_count": 2,
   "id": "7910d9de",
   "metadata": {},
   "outputs": [
    {
     "name": "stdout",
     "output_type": "stream",
     "text": [
      "[1.423e+01 1.710e+00 2.430e+00 1.560e+01 1.270e+02 2.800e+00 3.060e+00\n",
      " 2.800e-01 2.290e+00 5.640e+00 1.040e+00 3.920e+00 1.065e+03] [1.]\n"
     ]
    }
   ],
   "source": [
    "class WineDataset(Dataset):\n",
    "    def __init__(self):\n",
    "        xy = np.loadtxt('wine.csv', delimiter=',', dtype=np.float32, skiprows=1)\n",
    "        self.n_samples = xy.shape[0]\n",
    "        self.x_data = xy[:, 1:]\n",
    "        self.y_data = xy[:, [0]]\n",
    "        \n",
    "    def __getitem__(self, index):\n",
    "        return self.x_data[index], self.y_data[index]\n",
    "    \n",
    "    def __len__(self):\n",
    "        return self.n_samples\n",
    "    \n",
    "dataset = WineDataset()\n",
    "first_data = dataset[0]\n",
    "features, labels = first_data\n",
    "print(features, labels)"
   ]
  },
  {
   "cell_type": "code",
   "execution_count": 3,
   "id": "e0bd0f27",
   "metadata": {},
   "outputs": [
    {
     "name": "stdout",
     "output_type": "stream",
     "text": [
      "tensor([[1.3240e+01, 2.5900e+00, 2.8700e+00, 2.1000e+01, 1.1800e+02, 2.8000e+00,\n",
      "         2.6900e+00, 3.9000e-01, 1.8200e+00, 4.3200e+00, 1.0400e+00, 2.9300e+00,\n",
      "         7.3500e+02],\n",
      "        [1.2370e+01, 1.6300e+00, 2.3000e+00, 2.4500e+01, 8.8000e+01, 2.2200e+00,\n",
      "         2.4500e+00, 4.0000e-01, 1.9000e+00, 2.1200e+00, 8.9000e-01, 2.7800e+00,\n",
      "         3.4200e+02],\n",
      "        [1.2370e+01, 1.0700e+00, 2.1000e+00, 1.8500e+01, 8.8000e+01, 3.5200e+00,\n",
      "         3.7500e+00, 2.4000e-01, 1.9500e+00, 4.5000e+00, 1.0400e+00, 2.7700e+00,\n",
      "         6.6000e+02],\n",
      "        [1.2290e+01, 1.4100e+00, 1.9800e+00, 1.6000e+01, 8.5000e+01, 2.5500e+00,\n",
      "         2.5000e+00, 2.9000e-01, 1.7700e+00, 2.9000e+00, 1.2300e+00, 2.7400e+00,\n",
      "         4.2800e+02]]) tensor([[1.],\n",
      "        [2.],\n",
      "        [2.],\n",
      "        [2.]])\n"
     ]
    }
   ],
   "source": [
    "train_loader = DataLoader(dataset=dataset, batch_size=4, shuffle=True)\n",
    "dataiter = iter(train_loader)\n",
    "data = next(dataiter)\n",
    "features, labels = data\n",
    "print(features, labels)"
   ]
  },
  {
   "cell_type": "code",
   "execution_count": 4,
   "id": "fb9b9c1a",
   "metadata": {},
   "outputs": [
    {
     "name": "stdout",
     "output_type": "stream",
     "text": [
      "178 45\n"
     ]
    }
   ],
   "source": [
    "num_epochs = 2\n",
    "total_samples = len(dataset)\n",
    "n_iterations = math.ceil(total_samples / 4)\n",
    "print(total_samples, n_iterations)"
   ]
  },
  {
   "cell_type": "code",
   "execution_count": 5,
   "id": "63f02bc4",
   "metadata": {},
   "outputs": [
    {
     "name": "stdout",
     "output_type": "stream",
     "text": [
      "1/2, 1/45\n",
      "1/2, 2/45\n",
      "1/2, 3/45\n",
      "1/2, 4/45\n",
      "1/2, 5/45\n",
      "1/2, 6/45\n",
      "1/2, 7/45\n",
      "1/2, 8/45\n",
      "1/2, 9/45\n",
      "1/2, 10/45\n",
      "1/2, 11/45\n",
      "1/2, 12/45\n",
      "1/2, 13/45\n",
      "1/2, 14/45\n",
      "1/2, 15/45\n",
      "1/2, 16/45\n",
      "1/2, 17/45\n",
      "1/2, 18/45\n",
      "1/2, 19/45\n",
      "1/2, 20/45\n",
      "1/2, 21/45\n",
      "1/2, 22/45\n",
      "1/2, 23/45\n",
      "1/2, 24/45\n",
      "1/2, 25/45\n",
      "1/2, 26/45\n",
      "1/2, 27/45\n",
      "1/2, 28/45\n",
      "1/2, 29/45\n",
      "1/2, 30/45\n",
      "1/2, 31/45\n",
      "1/2, 32/45\n",
      "1/2, 33/45\n",
      "1/2, 34/45\n",
      "1/2, 35/45\n",
      "1/2, 36/45\n",
      "1/2, 37/45\n",
      "1/2, 38/45\n",
      "1/2, 39/45\n",
      "1/2, 40/45\n",
      "1/2, 41/45\n",
      "1/2, 42/45\n",
      "1/2, 43/45\n",
      "1/2, 44/45\n",
      "1/2, 45/45\n",
      "2/2, 1/45\n",
      "2/2, 2/45\n",
      "2/2, 3/45\n",
      "2/2, 4/45\n",
      "2/2, 5/45\n",
      "2/2, 6/45\n",
      "2/2, 7/45\n",
      "2/2, 8/45\n",
      "2/2, 9/45\n",
      "2/2, 10/45\n",
      "2/2, 11/45\n",
      "2/2, 12/45\n",
      "2/2, 13/45\n",
      "2/2, 14/45\n",
      "2/2, 15/45\n",
      "2/2, 16/45\n",
      "2/2, 17/45\n",
      "2/2, 18/45\n",
      "2/2, 19/45\n",
      "2/2, 20/45\n",
      "2/2, 21/45\n",
      "2/2, 22/45\n",
      "2/2, 23/45\n",
      "2/2, 24/45\n",
      "2/2, 25/45\n",
      "2/2, 26/45\n",
      "2/2, 27/45\n",
      "2/2, 28/45\n",
      "2/2, 29/45\n",
      "2/2, 30/45\n",
      "2/2, 31/45\n",
      "2/2, 32/45\n",
      "2/2, 33/45\n",
      "2/2, 34/45\n",
      "2/2, 35/45\n",
      "2/2, 36/45\n",
      "2/2, 37/45\n",
      "2/2, 38/45\n",
      "2/2, 39/45\n",
      "2/2, 40/45\n",
      "2/2, 41/45\n",
      "2/2, 42/45\n",
      "2/2, 43/45\n",
      "2/2, 44/45\n",
      "2/2, 45/45\n"
     ]
    }
   ],
   "source": [
    "for epoch in range(num_epochs):\n",
    "    for i, (inputs, labels) in enumerate(train_loader):\n",
    "        print(\"{}/{}, {}/{}\".format(epoch + 1, num_epochs, i + 1, n_iterations))"
   ]
  },
  {
   "cell_type": "code",
   "execution_count": 13,
   "id": "de9d21cf",
   "metadata": {},
   "outputs": [
    {
     "name": "stdout",
     "output_type": "stream",
     "text": [
      "torch.Size([3, 1, 28, 28]) torch.Size([3])\n"
     ]
    }
   ],
   "source": [
    "# Famous datasets\n",
    "train_dataset = torchvision.datasets.MNIST(root='./data',\n",
    "                                           train=True,\n",
    "                                           transform=torchvision.transforms.ToTensor(),\n",
    "                                           download=True)\n",
    "train_loader = DataLoader(dataset=train_dataset, batch_size=3, shuffle=True)\n",
    "dataiter = iter(train_loader)\n",
    "data = next(dataiter)\n",
    "inputs, targets = data\n",
    "print(inputs.shape, targets.shape)"
   ]
  }
 ],
 "metadata": {
  "kernelspec": {
   "display_name": "Python 3 (ipykernel)",
   "language": "python",
   "name": "python3"
  },
  "language_info": {
   "codemirror_mode": {
    "name": "ipython",
    "version": 3
   },
   "file_extension": ".py",
   "mimetype": "text/x-python",
   "name": "python",
   "nbconvert_exporter": "python",
   "pygments_lexer": "ipython3",
   "version": "3.10.9"
  }
 },
 "nbformat": 4,
 "nbformat_minor": 5
}
